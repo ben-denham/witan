{
 "cells": [
  {
   "cell_type": "markdown",
   "metadata": {},
   "source": [
    "# Datasets"
   ]
  },
  {
   "cell_type": "code",
   "execution_count": null,
   "metadata": {},
   "outputs": [],
   "source": [
    "from witan_experiments.evaluation import get_dataset_to_binary_features_df, datasets_table"
   ]
  },
  {
   "cell_type": "code",
   "execution_count": null,
   "metadata": {},
   "outputs": [],
   "source": [
    "binary_datasets = get_dataset_to_binary_features_df([\n",
    "    'imdb',\n",
    "    'imdb_genre',\n",
    "    'bias_pa',\n",
    "    'bias_pt',\n",
    "    'bias_jp',\n",
    "    'bias_pp',\n",
    "    'amazon',\n",
    "    'yelp',\n",
    "    'plots',\n",
    "    'fakenews',\n",
    "    'binary_dbpedia',\n",
    "    'binary_agnews',\n",
    "    'airline_tweets',\n",
    "    'damage',\n",
    "    'spam',\n",
    "])\n",
    "multiclass_datasets = get_dataset_to_binary_features_df([\n",
    "    'twentynews',\n",
    "    'dbpedia',\n",
    "    'agnews',\n",
    "    'nyttopics',\n",
    "])"
   ]
  },
  {
   "cell_type": "markdown",
   "metadata": {},
   "source": [
    "## Binary-class Datasets"
   ]
  },
  {
   "cell_type": "code",
   "execution_count": null,
   "metadata": {},
   "outputs": [],
   "source": [
    "datasets_table(binary_datasets)"
   ]
  },
  {
   "cell_type": "markdown",
   "metadata": {},
   "source": [
    "## Multi-class Datasets"
   ]
  },
  {
   "cell_type": "code",
   "execution_count": null,
   "metadata": {},
   "outputs": [],
   "source": [
    "datasets_table(multiclass_datasets)"
   ]
  }
 ],
 "metadata": {
  "kernelspec": {
   "display_name": "Python 3",
   "language": "python",
   "name": "python3"
  },
  "language_info": {
   "codemirror_mode": {
    "name": "ipython",
    "version": 3
   },
   "file_extension": ".py",
   "mimetype": "text/x-python",
   "name": "python",
   "nbconvert_exporter": "python",
   "pygments_lexer": "ipython3",
   "version": "3.8.5"
  }
 },
 "nbformat": 4,
 "nbformat_minor": 4
}
