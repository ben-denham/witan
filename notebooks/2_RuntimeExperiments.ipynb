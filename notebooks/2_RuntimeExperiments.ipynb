{
 "cells": [
  {
   "cell_type": "markdown",
   "metadata": {},
   "source": [
    "# Runtime Experiments\n",
    "\n",
    "These experiments should be run first to ensure the runtimes are measured with ruleset generators running in serial (other notebooks speed up experiments through parallelisation)."
   ]
  },
  {
   "cell_type": "code",
   "execution_count": null,
   "metadata": {},
   "outputs": [],
   "source": [
    "import pandas as pd\n",
    "\n",
    "from witan_experiments import (is_cached,\n",
    "                               save_to_cache,\n",
    "                               load_from_cache,\n",
    "                               run_experiments)\n",
    "from witan_experiments.evaluation import (summarise_experiments,\n",
    "                                          build_metric_df,\n",
    "                                          display_metric_table)\n",
    "from witan_experiments.config import prepare_experiment_configs\n",
    "from witan_experiments.rule_seeders import BlankRS, AccRS\n",
    "from witan_experiments.rule_generators import (IWSBinaryRG,\n",
    "                                               WitanRG,\n",
    "                                               SnubaRG,\n",
    "                                               SemiSupervisedRG,\n",
    "                                               ActiveLearningRG,\n",
    "                                               CbiRG,\n",
    "                                               HdcRG)\n",
    "from witan_experiments.labellers import SnorkelLblr\n",
    "from witan_experiments.models import AnnClf"
   ]
  },
  {
   "cell_type": "code",
   "execution_count": null,
   "metadata": {},
   "outputs": [],
   "source": [
    "ruleset_generators = {\n",
    "    'Wɪᴛᴀɴ': WitanRG(),\n",
    "    'Wɪᴛᴀɴ-Core': WitanRG(a=False, o=1),\n",
    "    'IWS-AS': IWSBinaryRG(acq='AS'),\n",
    "    'IWS-LSE-AC': IWSBinaryRG(acq='LSE'),\n",
    "    'Snuba': SnubaRG(),\n",
    "    'HDC': HdcRG(),\n",
    "    'CBI': CbiRG(clf=AnnClf()),\n",
    "    'Semi-supervised': SemiSupervisedRG(),\n",
    "    'Active learning': ActiveLearningRG(clf=AnnClf(), init_count=0),\n",
    "}\n",
    "\n",
    "base_config = dict(\n",
    "    rngseed=[1],\n",
    "    labeller=[SnorkelLblr()],\n",
    "    classifier=[AnnClf()],\n",
    ")\n",
    "unseeded_config = {\n",
    "    **base_config,\n",
    "    **dict(\n",
    "        rule_seeder=[BlankRS()],\n",
    "        ruleset_generator=[\n",
    "            ruleset_generators['Wɪᴛᴀɴ'],\n",
    "            ruleset_generators['Wɪᴛᴀɴ-Core'],\n",
    "            ruleset_generators['IWS-AS'],\n",
    "            ruleset_generators['IWS-LSE-AC'],\n",
    "            ruleset_generators['Snuba'],\n",
    "            ruleset_generators['Semi-supervised'],\n",
    "            ruleset_generators['Active learning'],\n",
    "            ruleset_generators['HDC'],\n",
    "        ],\n",
    "    ),\n",
    "}\n",
    "seeded_config = {\n",
    "    **base_config,\n",
    "    **dict(\n",
    "        rule_seeder=[AccRS()],\n",
    "        ruleset_generator=[\n",
    "            ruleset_generators['CBI'],\n",
    "        ],\n",
    "    ),\n",
    "}\n",
    "\n",
    "full_ic = [25, 100, 200]\n",
    "min_ic = [25, 100]\n",
    "dataset_to_ic = {\n",
    "    'imdb': full_ic,\n",
    "    'imdb_genre': min_ic,\n",
    "    'bias_pa': full_ic,\n",
    "    'bias_pt': min_ic,\n",
    "    'bias_jp': min_ic,\n",
    "    'bias_pp': min_ic,\n",
    "    'amazon': min_ic,\n",
    "    'yelp': min_ic,\n",
    "    'plots': min_ic,\n",
    "    'fakenews': full_ic,\n",
    "    'binary_dbpedia': min_ic,\n",
    "    'binary_agnews': full_ic,\n",
    "    'airline_tweets': min_ic,\n",
    "    'damage': min_ic,\n",
    "    'spam': min_ic,\n",
    "}\n",
    "dataset_configs = {\n",
    "    dataset: [\n",
    "        *prepare_experiment_configs(**unseeded_config, dataset_name=[dataset], interaction_count=ic),\n",
    "        *prepare_experiment_configs(**seeded_config, dataset_name=[dataset], interaction_count=ic),\n",
    "    ]\n",
    "    for dataset, ic in dataset_to_ic.items()\n",
    "}"
   ]
  },
  {
   "cell_type": "code",
   "execution_count": null,
   "metadata": {},
   "outputs": [],
   "source": [
    "CACHE_KEY = 'runtime-experiments'\n",
    "\n",
    "if not is_cached(CACHE_KEY):\n",
    "    dfs = []\n",
    "    for dataset, configs in dataset_configs.items():\n",
    "        print(f'\\nRunning experiments for: {dataset}')\n",
    "        dataset_results = run_experiments(\n",
    "            configs,\n",
    "            default_workers=2,\n",
    "            rule_workers=1,\n",
    "            continue_on_failure=False,\n",
    "        )\n",
    "        dfs.append(summarise_experiments(dataset_results, workers=8))\n",
    "    df = pd.concat(dfs)\n",
    "    save_to_cache(CACHE_KEY, df)\n",
    "\n",
    "df = load_from_cache(CACHE_KEY)"
   ]
  },
  {
   "cell_type": "code",
   "execution_count": null,
   "metadata": {},
   "outputs": [],
   "source": [
    "table_df = df[df['interaction_count'].isin([25, 100])].copy()"
   ]
  },
  {
   "cell_type": "markdown",
   "metadata": {},
   "source": [
    "## Runtime\n",
    "\n",
    "We compare the runtimes of rule generation methods after 25 and 100 user interactions. We highlight differences in runtime seconds compared to the baseline of `Wɪᴛᴀɴ`."
   ]
  },
  {
   "cell_type": "code",
   "execution_count": null,
   "metadata": {},
   "outputs": [],
   "source": [
    "runtime_df = build_metric_df(table_df,\n",
    "                             method='ruleset_generator',\n",
    "                             metric='rule_gen_wall_secs',\n",
    "                             labelled_methods=ruleset_generators)\n",
    "table = display_metric_table(runtime_df, baseline_label='Wɪᴛᴀɴ', small_margin=10, big_margin=60,\n",
    "                             larger_is_better=False, formatter='{:.1f}')\n",
    "display(table)\n",
    "print(table.to_latex(multirow_align='t', convert_css=True))"
   ]
  }
 ],
 "metadata": {
  "kernelspec": {
   "display_name": "Python 3",
   "language": "python",
   "name": "python3"
  },
  "language_info": {
   "codemirror_mode": {
    "name": "ipython",
    "version": 3
   },
   "file_extension": ".py",
   "mimetype": "text/x-python",
   "name": "python",
   "nbconvert_exporter": "python",
   "pygments_lexer": "ipython3",
   "version": "3.8.5"
  }
 },
 "nbformat": 4,
 "nbformat_minor": 4
}
