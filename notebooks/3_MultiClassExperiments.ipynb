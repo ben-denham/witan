{
 "cells": [
  {
   "cell_type": "markdown",
   "metadata": {},
   "source": [
    "# Multi-class Experiments"
   ]
  },
  {
   "cell_type": "code",
   "execution_count": null,
   "metadata": {},
   "outputs": [],
   "source": [
    "import numpy as np\n",
    "import pandas as pd\n",
    "\n",
    "from witan_experiments import (is_cached,\n",
    "                               save_to_cache,\n",
    "                               load_from_cache,\n",
    "                               run_experiments)\n",
    "from witan_experiments.evaluation import (summarise_experiments,\n",
    "                                          metric_line_grid)\n",
    "from witan_experiments.config import prepare_experiment_configs\n",
    "from witan_experiments.rule_seeders import BlankRS\n",
    "from witan_experiments.rule_generators import (TrueRG,\n",
    "                                               WitanRG,\n",
    "                                               SnubaRG,\n",
    "                                               SemiSupervisedRG,\n",
    "                                               ActiveLearningRG)\n",
    "from witan_experiments.labellers import SnorkelLblr\n",
    "from witan_experiments.models import AnnClf"
   ]
  },
  {
   "cell_type": "code",
   "execution_count": null,
   "metadata": {},
   "outputs": [],
   "source": [
    "ruleset_generators = {\n",
    "    'Full supervision': TrueRG(),\n",
    "    'Wɪᴛᴀɴ': WitanRG(),\n",
    "    'Wɪᴛᴀɴ-Core': WitanRG(a=False, o=1),\n",
    "    'Snuba': SnubaRG(),\n",
    "    'Semi-supervised': SemiSupervisedRG(),\n",
    "    'Active learning': ActiveLearningRG(clf=AnnClf(), init_count=0),\n",
    "}\n",
    "\n",
    "base_config = dict(\n",
    "    rule_seeder=[BlankRS()],\n",
    "    rngseed=[1],\n",
    "    ruleset_generator=list(ruleset_generators.values()),\n",
    "    interaction_count=[10, 25, 50, 100, 150, 200],\n",
    "    labeller=[SnorkelLblr()],\n",
    "    classifier=[AnnClf()],\n",
    ")\n",
    "\n",
    "datasets = [\n",
    "    'twentynews',\n",
    "    'dbpedia',\n",
    "    'agnews',\n",
    "    'nyttopics',\n",
    "]\n",
    "dataset_configs = {\n",
    "    dataset: [\n",
    "        *prepare_experiment_configs(**base_config, dataset_name=[dataset]),\n",
    "    ]\n",
    "    for dataset in datasets\n",
    "}"
   ]
  },
  {
   "cell_type": "code",
   "execution_count": null,
   "metadata": {},
   "outputs": [],
   "source": [
    "CACHE_KEY = 'multiclass-experiments'\n",
    "\n",
    "if not is_cached(CACHE_KEY):\n",
    "    results = {}\n",
    "    for dataset, configs in dataset_configs.items():\n",
    "        print(f'\\nExperiments for: {dataset}')\n",
    "        results.update(\n",
    "            run_experiments(\n",
    "                configs,\n",
    "                default_workers=3,\n",
    "                rule_workers=1,\n",
    "                continue_on_failure=False,\n",
    "            )\n",
    "        )\n",
    "    df = summarise_experiments(results)\n",
    "    save_to_cache(CACHE_KEY, df)\n",
    "\n",
    "df = load_from_cache(CACHE_KEY)"
   ]
  },
  {
   "cell_type": "code",
   "execution_count": null,
   "metadata": {},
   "outputs": [],
   "source": [
    "table_df = df[\n",
    "    df['interaction_count'].isin([25, 100]) &\n",
    "    ~df['ruleset_generator'].isin([ruleset_generators['Full supervision']])\n",
    "]"
   ]
  },
  {
   "cell_type": "markdown",
   "metadata": {},
   "source": [
    "## F1 Score Plots"
   ]
  },
  {
   "cell_type": "code",
   "execution_count": null,
   "metadata": {},
   "outputs": [],
   "source": [
    "fig = metric_line_grid(\n",
    "    df,\n",
    "    metric='test_macro_f1',\n",
    "    facet_col='dataset_name',\n",
    "    ruleset_generators=ruleset_generators,\n",
    "    legend_y=1.08,\n",
    "    facet_row_spacing=0.15,\n",
    "    facet_col_spacing=0.1,\n",
    "    legend_label_suffix='  ',\n",
    ")\n",
    "fig.write_image('plots/multi-f1-lines.svg')\n",
    "fig.show()"
   ]
  }
 ],
 "metadata": {
  "kernelspec": {
   "display_name": "Python 3",
   "language": "python",
   "name": "python3"
  },
  "language_info": {
   "codemirror_mode": {
    "name": "ipython",
    "version": 3
   },
   "file_extension": ".py",
   "mimetype": "text/x-python",
   "name": "python",
   "nbconvert_exporter": "python",
   "pygments_lexer": "ipython3",
   "version": "3.8.5"
  }
 },
 "nbformat": 4,
 "nbformat_minor": 4
}
